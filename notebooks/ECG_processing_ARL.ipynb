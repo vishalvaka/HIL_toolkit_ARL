{
 "cells": [
  {
   "cell_type": "code",
   "execution_count": 1,
   "id": "e2bb667b",
   "metadata": {},
   "outputs": [],
   "source": [
    "import pyxdf\n",
    "import numpy as np\n",
    "import pandas as pd\n",
    "import matplotlib.pyplot as plt\n",
    "from scipy import signal\n",
    "from warnings import warn\n",
    "import math\n",
    "import ECGComplexity\n",
    "import neurokit2 as nk\n",
    "\n",
    "import os\n",
    "import glob"
   ]
  },
  {
   "cell_type": "markdown",
   "id": "77621f88",
   "metadata": {},
   "source": [
    "## Export ECG data from xdf file"
   ]
  },
  {
   "cell_type": "code",
   "execution_count": 40,
   "id": "70586c99",
   "metadata": {},
   "outputs": [
    {
     "name": "stdout",
     "output_type": "stream",
     "text": [
      "C:\\Users\\sruth\\OneDrive - University of Illinois at Chicago\\Documents\\MATLAB\\6. HIL\\ECG_processing\\Energy adaptation optimization\\arl testing Sep 27 2024\\User preferred\\sub-P001\\ses-S001\\eeg\n"
     ]
    }
   ],
   "source": [
    "os.chdir(r'C:\\Users\\sruth\\OneDrive - University of Illinois at Chicago\\Documents\\MATLAB\\6. HIL\\ECG_processing\\Energy adaptation optimization\\arl testing Sep 27 2024\\User preferred\\sub-P001\\ses-S001\\eeg')  # Folder path to the xdf file\n",
    "\n",
    "print(os.getcwd())\n",
    "\n",
    "filename = \"sub-P001_ses-S001_task-Default_run-001_eeg.xdf\" # File name\n",
    "\n",
    "data, header = pyxdf.load_xdf(filename)"
   ]
  },
  {
   "cell_type": "code",
   "execution_count": 41,
   "id": "2429e717",
   "metadata": {},
   "outputs": [
    {
     "name": "stdout",
     "output_type": "stream",
     "text": [
      "['polar ECG 2']\n",
      "['polar accel']\n",
      "['Polar_symmetry']\n",
      "['Met_cost']\n"
     ]
    }
   ],
   "source": [
    "for data_streams in data:\n",
    "    \n",
    "    print(data_streams['info']['name'])\n",
    "    \n",
    "    if data_streams['info']['name']==['polar ECG 2']:\n",
    "        ecg_data=data_streams['time_series'] # this is the ecg data\n",
    "        ecg_time_stamps=data_streams['time_stamps']\n",
    "        \n",
    "    if data_streams['info']['name']==['polar accel']:\n",
    "        accel_data=data_streams['time_series'] # this is the acceleration data\n",
    "        accel_time_stamps=data_streams['time_stamps']\n",
    "\n",
    "    if data_streams['info']['name']==['TestInf']:\n",
    "        condition_data = data_streams['time_series'] # this is the condition data (e.g. \"first parameter\", \"second parameter\", etc)\n",
    "        condition_time_stamps = data_streams['time_stamps']\n",
    "    \n",
    "    if data_streams['info']['name']==['Change_parm']:\n",
    "        parm_data = data_streams['time_series'] \n",
    "        parm_time_stamps = data_streams['time_stamps']"
   ]
  },
  {
   "cell_type": "code",
   "execution_count": 42,
   "id": "4ae0ff36-2c95-4ce8-aa0a-0d26e97ffb56",
   "metadata": {},
   "outputs": [
    {
     "data": {
      "text/plain": [
       "array([[209.],\n",
       "       [212.],\n",
       "       [212.],\n",
       "       ...,\n",
       "       [274.],\n",
       "       [288.],\n",
       "       [308.]], dtype=float32)"
      ]
     },
     "execution_count": 42,
     "metadata": {},
     "output_type": "execute_result"
    }
   ],
   "source": [
    "ecg_data"
   ]
  },
  {
   "cell_type": "code",
   "execution_count": 43,
   "id": "a0f1ab8c-790b-4715-a64e-5634137fd117",
   "metadata": {},
   "outputs": [
    {
     "data": {
      "text/plain": [
       "array([769201.09526009, 769201.10294565, 769201.11063121, ...,\n",
       "       769442.88295812, 769442.89064368, 769442.89832924])"
      ]
     },
     "execution_count": 43,
     "metadata": {},
     "output_type": "execute_result"
    }
   ],
   "source": [
    "ecg_time_stamps"
   ]
  },
  {
   "cell_type": "code",
   "execution_count": 44,
   "id": "ab6a0948",
   "metadata": {},
   "outputs": [
    {
     "data": {
      "text/plain": [
       "241.80306914064568"
      ]
     },
     "execution_count": 44,
     "metadata": {},
     "output_type": "execute_result"
    }
   ],
   "source": [
    "# check time duration\n",
    "x = ecg_time_stamps[-1] - ecg_time_stamps[0]\n",
    "x"
   ]
  },
  {
   "cell_type": "code",
   "execution_count": 45,
   "id": "e3a367c9",
   "metadata": {},
   "outputs": [],
   "source": [
    "# Save raw ECG data \n",
    "df_ecg = pd.DataFrame(ecg_data, columns = [\"ecg\"])\n",
    "df_ecg[\"ecg_time_stamps\"] = ecg_time_stamps\n",
    "df_ecg.to_excel(\"P0_ecg.xlsx\") # Save file with appropriate filename"
   ]
  },
  {
   "cell_type": "code",
   "execution_count": 54,
   "id": "4c0c50a1",
   "metadata": {},
   "outputs": [],
   "source": [
    "# # Code to select data of interest (i.e., between specific time stamps) from Excel file \n",
    "\n",
    "# os.chdir(r'C:\\Users\\sruth\\OneDrive - University of Illinois at Chicago\\Documents\\MATLAB\\6. HIL\\ECG_processing\\ETC optimization\\VV_hip_exo_2')  # Folder path\n",
    "\n",
    "# df = pd.read_excel(\"P01_ecg_hip_exo_NW.xlsx\", index_col=0) # index column is not read\n",
    "\n",
    "# df_new = df[(df['ecg_time_stamps'].between(327490.82-120, 327490.82))]  # last 120 seconds\n",
    "\n",
    "# # check time duration\n",
    "# t=df_new[\"ecg_time_stamps\"].iloc[-1]-df_new[\"ecg_time_stamps\"].iloc[0]\n",
    "# t\n",
    "\n",
    "# # Convert to Excel\n",
    "# df_new.to_excel('P01_ecg_hip_exo_NW.xlsx')"
   ]
  },
  {
   "cell_type": "markdown",
   "id": "52489722-1f63-41c9-805d-11d581e16c96",
   "metadata": {},
   "source": [
    "# Extract RR intervals and HRV indices - Single file processing"
   ]
  },
  {
   "cell_type": "code",
   "execution_count": 2,
   "id": "24d8555e",
   "metadata": {},
   "outputs": [],
   "source": [
    "# function to clean signal, extract R peaks in two formats - (1) array indices (2) RR intervals in milliseconds \n",
    "\n",
    "def ECG_process(ecg_signal, srate):\n",
    "    # clean signal\n",
    "    ECG_signal_clean = nk.ecg_clean(ecg_signal, sampling_rate=srate, method='neurokit')\n",
    "    \n",
    "    # Extract R peaks\n",
    "    R_peaks=nk.ecg_peaks(ECG_signal_clean, sampling_rate=srate, method='pantompkins1985')\n",
    "    \n",
    "    # To access indices of R peaks\n",
    "    peaks_idx=R_peaks[1]['ECG_R_Peaks']    \n",
    "    \n",
    "    # To obtain RR intervals in milliseconds from indices\n",
    "    peaks_ms = get_RR(peaks_idx, srate)\n",
    "    \n",
    "    # To access R peaks as a vector of 0's and 1's. \n",
    "    # peaks_bin = R_peaks[0]\n",
    "\n",
    "    return peaks_idx, peaks_ms"
   ]
  },
  {
   "cell_type": "code",
   "execution_count": 3,
   "id": "041a4c29",
   "metadata": {},
   "outputs": [],
   "source": [
    "# function to get RR intervals in milliseconds\n",
    "\n",
    "def get_RR(peaks_idx, srate):\n",
    "    \n",
    "    # Get successive differences (RR intervals)\n",
    "    res = []\n",
    "    res = [peaks_idx[i + 1] - peaks_idx[i] for i in range(len(peaks_idx) - 1)]\n",
    "    peaks = res\n",
    "    \n",
    "    # Convert to milliseconds\n",
    "    peaks = np.asarray(peaks[1:], dtype=np.float32)\n",
    "    peaks_ms = np.round(peaks/srate*1000,0) # in Hz sampling rate\n",
    "    \n",
    "    return peaks_ms"
   ]
  },
  {
   "cell_type": "code",
   "execution_count": 4,
   "id": "1c3ad8dd-cb99-4d38-9d45-73768fada411",
   "metadata": {},
   "outputs": [],
   "source": [
    "# Function to calculate the frequency of occurrence of patterns sets of different complexities as per ETC\n",
    "\n",
    "from collections import Counter\n",
    "\n",
    "def ETC_distributions(peaks_ms):\n",
    "    # Given array (RR intervals)\n",
    "    l = ECGComplexity.symbolic_sequence_difference(peaks_ms)\n",
    "   \n",
    "    # Window size and overlap\n",
    "    window_size = 8\n",
    "    overlap = 7\n",
    "    step = window_size - overlap\n",
    "   \n",
    "    moving_window_ETC = []\n",
    "   \n",
    "    # Extract moving window of 8 elements with an overlap of 7 elements and calculate its ETC\n",
    "    for i in range(0, len(l)-window_size+1, step):\n",
    "        subsequence = l[i:i+window_size]\n",
    "        res = ECGComplexity.ETC(subsequence, \"None\")/(window_size-1)\n",
    "        res = np.round(res, 4)\n",
    "        moving_window_ETC.append(res)\n",
    "   \n",
    "    # Calculate the frequency distribution of the ETC values\n",
    "    frequency_distribution = Counter(moving_window_ETC)\n",
    "   \n",
    "    # Access the frequency distribution values only after it has been computed\n",
    "    ETC_L1 = frequency_distribution.get(0.1429, 0)  # Use a default of 0 if the key is not found\n",
    "    ETC_L2 = frequency_distribution.get(0.4286, 0)\n",
    "    ETC_L3 = frequency_distribution.get(0.5714, 0)\n",
    "    ETC_L4 = frequency_distribution.get(0.7143, 0)\n",
    "    ETC_L5 = frequency_distribution.get(0.8571, 0)\n",
    "   \n",
    "    # Calculate the frequency of occurrence of complex patterns (ETC > 0.7)\n",
    "    ETC_L4L5 = ETC_L4 + ETC_L5\n",
    "   \n",
    "    return ETC_L4L5"
   ]
  },
  {
   "cell_type": "code",
   "execution_count": 5,
   "id": "1050a6b5-b123-4f0e-9fab-386bed9d2309",
   "metadata": {},
   "outputs": [],
   "source": [
    "# Function to calculate the frequency of occurrence of patterns sets of different complexities as per ETC, with normalization\n",
    "\n",
    "def ETC_distributions_norm(peaks_ms):\n",
    "    # Given array (RR intervals)\n",
    "    l = ECGComplexity.symbolic_sequence_difference(peaks_ms)\n",
    "   \n",
    "    # Window size and overlap\n",
    "    window_size = 8\n",
    "    overlap = 7\n",
    "    step = window_size - overlap\n",
    "   \n",
    "    moving_window_ETC = []\n",
    "   \n",
    "    # Extract moving window of 8 elements with an overlap of 7 elements and calculate its ETC\n",
    "    for i in range(0, len(l)-window_size+1, step):\n",
    "        subsequence = l[i:i+window_size]\n",
    "        res = ECGComplexity.ETC(subsequence, \"None\") / (window_size-1)\n",
    "        res = np.round(res, 4)\n",
    "        moving_window_ETC.append(res)\n",
    "   \n",
    "    # Calculate the frequency distribution of the ETC values\n",
    "    frequency_distribution = Counter(moving_window_ETC)\n",
    " \n",
    "    # Get ETC levels with default value 0 if the key is not found\n",
    "    ETC_L1 = frequency_distribution.get(0.1429, 0)\n",
    "    ETC_L2 = frequency_distribution.get(0.4286, 0)\n",
    "    ETC_L3 = frequency_distribution.get(0.5714, 0)\n",
    "    ETC_L4 = frequency_distribution.get(0.7143, 0)\n",
    "    ETC_L5 = frequency_distribution.get(0.8571, 0)\n",
    "   \n",
    "    # Avoid division by zero by checking if the denominator is zero\n",
    "    total = sum([ETC_L1, ETC_L2, ETC_L3, ETC_L4, ETC_L5])\n",
    "    if total == 0:\n",
    "        return 0\n",
    "   \n",
    "    # Calculate the frequency of occurrence of complex patterns (ETC > 0.7)\n",
    "    ETC_L4L5_norm = (ETC_L4 + ETC_L5) / total\n",
    "   \n",
    "    return ETC_L4L5_norm"
   ]
  },
  {
   "cell_type": "code",
   "execution_count": 60,
   "id": "a22ee41a",
   "metadata": {},
   "outputs": [],
   "source": [
    "# Change folder location\n",
    "\n",
    "os.chdir(r'C:\\Users\\sruth\\OneDrive - University of Illinois at Chicago\\Documents\\MATLAB\\6. HIL\\ECG_processing\\Energy adaptation optimization\\arl testing Sep 27 2024\\User preferred\\sub-P001\\ses-S001\\eeg')  # Folder path"
   ]
  },
  {
   "cell_type": "code",
   "execution_count": 62,
   "id": "7fb7c2fc-e214-4281-9803-28347432e587",
   "metadata": {},
   "outputs": [
    {
     "data": {
      "text/plain": [
       "120588.0"
      ]
     },
     "execution_count": 62,
     "metadata": {},
     "output_type": "execute_result"
    }
   ],
   "source": [
    "# Import the ECG data\n",
    "df_ECG = pd.read_excel(\"P0_ecg.xlsx\")\n",
    "\n",
    "# Specify sampling rate\n",
    "srate = 130  # Hz\n",
    "\n",
    "# Extract R peaks\n",
    "ecg = df_ECG[\"ecg\"].to_numpy()\n",
    "[peaks_idx, peaks_ms] = ECG_process(ecg, srate)\n",
    "\n",
    "### Code for extracting data after first 2 minutes ###\n",
    "peaks_ms_cumsum = np.cumsum(peaks_ms)\n",
    "\n",
    "# Find the index where the cumulative time exceeds 2 minutes (120,000 ms)\n",
    "cut_off_index = np.where(peaks_ms_cumsum > (120 * 1000))[0][0]\n",
    "\n",
    "# Extract the last two minutes of data for peaks_ms and peaks_idx\n",
    "peaks_ms_trunc = peaks_ms[cut_off_index:]\n",
    "peaks_idx_trunc = peaks_idx[cut_off_index:]\n",
    "\n",
    "# Re-asssign values for further processing\n",
    "peaks_ms = peaks_ms_trunc\n",
    "peaks_idx = peaks_idx_trunc\n",
    "\n",
    "# Check the duration (in ms) to ensure it's around 2 minutes (120,000 ms)\n",
    "duration = np.cumsum(peaks_ms_trunc)[-1] - np.cumsum(peaks_ms_trunc)[0]\n",
    "duration\n",
    "\n",
    "# Optionally, convert numpy arrays to dataframes for saving to Excel\n",
    "# df_peaks_ms = pd.DataFrame(peaks_ms)\n",
    "# df_peaks_idx = pd.DataFrame(peaks_idx)\n",
    "\n",
    "# Save R peaks and corresponding indices in Excel files\n",
    "# df_peaks_ms.to_excel('P01_ecg_peaks_ms.xlsx')\n",
    "# df_peaks_idx.to_excel('P01_ecg_peaks_idx.xlsx')"
   ]
  },
  {
   "cell_type": "code",
   "execution_count": 52,
   "id": "bcdbf505",
   "metadata": {},
   "outputs": [],
   "source": [
    "# Extract Heart rate variability indices and store them in a new Excel file\n",
    "\n",
    "hrv_indices = nk.hrv(peaks_idx, sampling_rate = srate, show = False)\n",
    "\n",
    "# Length of RR intervals\n",
    "hrv_indices[\"RR_len\"] = len(peaks_ms)\n",
    "\n",
    "# Calculate heart rate (in bpm)\n",
    "hrv_indices[\"heart_rate\"] = 60000/hrv_indices[\"HRV_MeanNN\"] # since Mean_NN is in millisec\n",
    "\n",
    "# Calculate complexity features\n",
    "hrv_indices[\"ETC_diff\"] = ECGComplexity.ETC(peaks_ms, \"difference\")\n",
    "hrv_indices[\"ETC_thres\"] = ECGComplexity.ETC(peaks_ms, \"threshold\")\n",
    "hrv_indices[\"ETC_perc\"] = ECGComplexity.ETC(peaks_ms, \"percentile\")\n",
    "\n",
    "# Calculate frequency of occurrence of complex pattern sets\n",
    "hrv_indices[\"ETC_L4L5\"] = ETC_distributions(peaks_ms)\n",
    "hrv_indices[\"ETC_L4L5_norm\"] = ETC_distributions_norm(peaks_ms)\n",
    "\n",
    "# Calculate symbolic dynamics features\n",
    "[P0V_diff, P1V_diff, P2V_diff] = ECGComplexity.symbolic_dynamics(peaks_ms,\"difference\")\n",
    "hrv_indices[\"0V_diff\"] = P0V_diff\n",
    "hrv_indices[\"1V_diff\"] = P1V_diff\n",
    "hrv_indices[\"2V_diff\"] = P2V_diff\n",
    "\n",
    "[P0V_thres, P1V_thres, P2V_thres] = ECGComplexity.symbolic_dynamics(peaks_ms,\"threshold\")\n",
    "hrv_indices[\"0V_thres\"] = P0V_thres\n",
    "hrv_indices[\"1V_thres\"] = P1V_thres\n",
    "hrv_indices[\"2V_thres\"] = P2V_thres\n",
    "\n",
    "[P0V_perc, P1V_perc, P2V_perc] = ECGComplexity.symbolic_dynamics(peaks_ms,\"percentile\")\n",
    "hrv_indices[\"0V_perc\"] = P0V_perc\n",
    "hrv_indices[\"1V_perc\"] = P1V_perc\n",
    "hrv_indices[\"2V_perc\"] = P2V_perc\n",
    "\n",
    "# Save all indices to an Excel file\n",
    "hrv_indices.to_excel(f'P0_HRV_indices.xlsx')"
   ]
  }
 ],
 "metadata": {
  "kernelspec": {
   "display_name": "Python 3 (ipykernel)",
   "language": "python",
   "name": "python3"
  },
  "language_info": {
   "codemirror_mode": {
    "name": "ipython",
    "version": 3
   },
   "file_extension": ".py",
   "mimetype": "text/x-python",
   "name": "python",
   "nbconvert_exporter": "python",
   "pygments_lexer": "ipython3",
   "version": "3.10.0"
  }
 },
 "nbformat": 4,
 "nbformat_minor": 5
}
