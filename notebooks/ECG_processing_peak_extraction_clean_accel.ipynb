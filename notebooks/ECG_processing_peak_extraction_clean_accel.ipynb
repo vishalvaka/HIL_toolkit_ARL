{
 "cells": [
  {
   "cell_type": "code",
   "execution_count": 1,
   "id": "e2bb667b",
   "metadata": {},
   "outputs": [
    {
     "ename": "",
     "evalue": "",
     "output_type": "error",
     "traceback": [
      "\u001b[1;31mThe Kernel crashed while executing code in the current cell or a previous cell. \n",
      "\u001b[1;31mPlease review the code in the cell(s) to identify a possible cause of the failure. \n",
      "\u001b[1;31mClick <a href='https://aka.ms/vscodeJupyterKernelCrash'>here</a> for more info. \n",
      "\u001b[1;31mView Jupyter <a href='command:jupyter.viewOutput'>log</a> for further details."
     ]
    }
   ],
   "source": [
    "import pyxdf\n",
    "import numpy as np\n",
    "import pandas as pd\n",
    "import matplotlib.pyplot as plt\n",
    "from scipy import signal\n",
    "from warnings import warn\n",
    "import math\n",
    "from HIL.cost_processing.ECG import ECGComplexity\n",
    "import neurokit2 as nk\n",
    "\n",
    "import os\n",
    "import glob"
   ]
  },
  {
   "cell_type": "code",
   "execution_count": 2,
   "id": "a29a8640",
   "metadata": {},
   "outputs": [
    {
     "name": "stdout",
     "output_type": "stream",
     "text": [
      "Package                                                 Version      Editable project location\n",
      "------------------------------------------------------- ------------ --------------------------------------------------\n",
      "asttokens                                               2.4.1\n",
      "bleak                                                   0.21.1\n",
      "botorch                                                 0.10.0\n",
      "certifi                                                 2024.2.2\n",
      "charset-normalizer                                      3.3.2\n",
      "colorama                                                0.4.6\n",
      "comm                                                    0.2.1\n",
      "contourpy                                               1.2.0\n",
      "cycler                                                  0.12.1\n",
      "debugpy                                                 1.8.1\n",
      "decorator                                               5.1.1\n",
      "executing                                               2.0.1\n",
      "filelock                                                3.13.1\n",
      "fonttools                                               4.47.2\n",
      "fsspec                                                  2024.2.0\n",
      "gpytorch                                                1.11\n",
      "HIL                                                     0.0.2        C:\\GitHub\\HIL_toolkit_ARL\n",
      "idna                                                    3.6\n",
      "ipykernel                                               6.29.3\n",
      "ipython                                                 8.22.2\n",
      "jaxtyping                                               0.2.25\n",
      "jedi                                                    0.19.1\n",
      "Jinja2                                                  3.1.3\n",
      "joblib                                                  1.3.2\n",
      "jupyter_client                                          8.6.0\n",
      "jupyter_core                                            5.7.1\n",
      "kiwisolver                                              1.4.5\n",
      "linear-operator                                         0.5.1\n",
      "MarkupSafe                                              2.1.5\n",
      "matplotlib                                              3.8.2\n",
      "matplotlib-inline                                       0.1.6\n",
      "mpmath                                                  1.3.0\n",
      "multipledispatch                                        1.0.0\n",
      "nest-asyncio                                            1.6.0\n",
      "networkx                                                3.2.1\n",
      "neurokit2                                               0.2.7\n",
      "numpy                                                   1.26.3\n",
      "opt-einsum                                              3.3.0\n",
      "packaging                                               23.2\n",
      "pandas                                                  2.2.1\n",
      "parso                                                   0.8.3\n",
      "pillow                                                  10.2.0\n",
      "pip                                                     24.0\n",
      "platformdirs                                            4.2.0\n",
      "prompt-toolkit                                          3.0.43\n",
      "psutil                                                  5.9.8\n",
      "pure-eval                                               0.2.2\n",
      "Pygments                                                2.17.2\n",
      "pylsl                                                   1.16.2\n",
      "pyparsing                                               3.1.1\n",
      "pyro-api                                                0.1.2\n",
      "pyro-ppl                                                1.9.0\n",
      "python-dateutil                                         2.8.2\n",
      "pytz                                                    2023.3.post1\n",
      "pywin32                                                 306\n",
      "pyxdf                                                   1.16.5\n",
      "PyYAML                                                  6.0.1\n",
      "pyzmq                                                   25.1.2\n",
      "requests                                                2.31.0\n",
      "RGPE                                                    0.0.1        C:\\Users\\visha\\OneDrive\\Documents\\HIL_botorch-main\n",
      "scikit-learn                                            1.4.0\n",
      "scipy                                                   1.12.0\n",
      "six                                                     1.16.0\n",
      "stack-data                                              0.6.3\n",
      "sympy                                                   1.12\n",
      "threadpoolctl                                           3.2.0\n",
      "torch                                                   2.2.1\n",
      "tornado                                                 6.4\n",
      "tqdm                                                    4.66.2\n",
      "traitlets                                               5.14.1\n",
      "typeguard                                               2.13.3\n",
      "typing_extensions                                       4.9.0\n",
      "tzdata                                                  2023.4\n",
      "urllib3                                                 2.2.1\n",
      "wcwidth                                                 0.2.13\n",
      "winrt-runtime                                           2.0.0b1\n",
      "winrt-Windows.Devices.Bluetooth                         2.0.0b1\n",
      "winrt-Windows.Devices.Bluetooth.Advertisement           2.0.0b1\n",
      "winrt-Windows.Devices.Bluetooth.GenericAttributeProfile 2.0.0b1\n",
      "winrt-Windows.Devices.Enumeration                       2.0.0b1\n",
      "winrt-Windows.Foundation                                2.0.0b1\n",
      "winrt-Windows.Foundation.Collections                    2.0.0b1\n",
      "winrt-Windows.Storage.Streams                           2.0.0b1\n",
      "yml                                                     0.0.1\n"
     ]
    }
   ],
   "source": [
    "!pip list"
   ]
  },
  {
   "cell_type": "markdown",
   "id": "77621f88",
   "metadata": {},
   "source": [
    "## Export ECG data and acceleration data from xdf file"
   ]
  },
  {
   "cell_type": "code",
   "execution_count": 2,
   "id": "70586c99",
   "metadata": {},
   "outputs": [],
   "source": [
    "filename = \"sub-P001_ses-S001_task-Default_run-001_eeg.xdf\" # File name\n",
    "\n",
    "data, header = pyxdf.load_xdf(filename)"
   ]
  },
  {
   "cell_type": "code",
   "execution_count": 3,
   "id": "3dbdeadf",
   "metadata": {},
   "outputs": [],
   "source": [
    "# # Checking the format of \"data\" in the xdf file\n",
    "# data[0] #- ['imu_stream_new']\n",
    "# data[1] #- ['polar accel'] # acceleration data, with sampling rate = 200 Hz\n",
    "# data[2] #- ['polar ECG'] # ECG raw data, with sampling rate = 130.14 Hz\n",
    "# data[3] #- ['TestInf']  # information about conditions\n",
    "# data[4] #- ['ECG_processed'] # represents the cost function - RMSSD\n",
    "# data[5] #- ['Walking Speed']\n",
    "# data[6] #- ['emg_stream_new']"
   ]
  },
  {
   "cell_type": "code",
   "execution_count": 3,
   "id": "2429e717",
   "metadata": {},
   "outputs": [
    {
     "name": "stdout",
     "output_type": "stream",
     "text": [
      "['polar accel']\n",
      "['polar ECG 2']\n",
      "['ECG_complexity']\n"
     ]
    }
   ],
   "source": [
    "for data_streams in data:\n",
    "    \n",
    "    print(data_streams['info']['name'])\n",
    "    \n",
    "    if data_streams['info']['name']==['polar ECG 2']:\n",
    "        ecg_data=data_streams['time_series'] # this is the ecg data\n",
    "        ecg_time_stamps=data_streams['time_stamps']\n",
    "        \n",
    "    if data_streams['info']['name']==['polar accel']:\n",
    "        accel_data=data_streams['time_series'] # this is the acceleration data\n",
    "        accel_time_stamps=data_streams['time_stamps']\n",
    "\n",
    "    if data_streams['info']['name']==['TestInf']:\n",
    "        condition_data = data_streams['time_series'] # this is the condition data (e.g. \"first parameter\", \"second parameter\", etc)\n",
    "        condition_time_stamps = data_streams['time_stamps']\n",
    "    \n",
    "    if data_streams['info']['name']==['Change_parm']:\n",
    "        parm_data = data_streams['time_series'] \n",
    "        parm_time_stamps = data_streams['time_stamps']"
   ]
  },
  {
   "cell_type": "code",
   "execution_count": 4,
   "id": "4ae0ff36-2c95-4ce8-aa0a-0d26e97ffb56",
   "metadata": {},
   "outputs": [
    {
     "data": {
      "text/plain": [
       "array([[ -43.],\n",
       "       [-105.],\n",
       "       [ -83.],\n",
       "       ...,\n",
       "       [-191.],\n",
       "       [-146.],\n",
       "       [-107.]], dtype=float32)"
      ]
     },
     "execution_count": 4,
     "metadata": {},
     "output_type": "execute_result"
    }
   ],
   "source": [
    "ecg_data"
   ]
  },
  {
   "cell_type": "code",
   "execution_count": 5,
   "id": "a0f1ab8c-790b-4715-a64e-5634137fd117",
   "metadata": {},
   "outputs": [
    {
     "data": {
      "text/plain": [
       "array([906725.47364741, 906725.48133512, 906725.48902283, ...,\n",
       "       906965.6454532 , 906965.65314092, 906965.66082863])"
      ]
     },
     "execution_count": 5,
     "metadata": {},
     "output_type": "execute_result"
    }
   ],
   "source": [
    "ecg_time_stamps"
   ]
  },
  {
   "cell_type": "code",
   "execution_count": 6,
   "id": "48ce1996-8e42-407a-8590-f45120dcc527",
   "metadata": {},
   "outputs": [
    {
     "data": {
      "text/plain": [
       "array([[ -883.,   116.,   220.],\n",
       "       [ -883.,   120.,   220.],\n",
       "       [ -882.,   126.,   226.],\n",
       "       ...,\n",
       "       [ -989.,   -20.,    89.],\n",
       "       [-1015.,    -9.,   125.],\n",
       "       [-1054.,    -6.,   143.]], dtype=float32)"
      ]
     },
     "execution_count": 6,
     "metadata": {},
     "output_type": "execute_result"
    }
   ],
   "source": [
    "accel_data\n",
    "# sampling rate for acceleration data is 200 Hz"
   ]
  },
  {
   "cell_type": "code",
   "execution_count": 7,
   "id": "d7b06faf-aca8-4d5b-a160-0d3467b71828",
   "metadata": {},
   "outputs": [
    {
     "data": {
      "text/plain": [
       "array([[ -883.,  -883.,  -882., ...,  -989., -1015., -1054.],\n",
       "       [  116.,   120.,   126., ...,   -20.,    -9.,    -6.],\n",
       "       [  220.,   220.,   226., ...,    89.,   125.,   143.]],\n",
       "      dtype=float32)"
      ]
     },
     "execution_count": 7,
     "metadata": {},
     "output_type": "execute_result"
    }
   ],
   "source": [
    "x=accel_data.T\n",
    "x"
   ]
  },
  {
   "cell_type": "code",
   "execution_count": 8,
   "id": "3ec2bcee-3831-489d-b968-5fb2bd7d569a",
   "metadata": {},
   "outputs": [
    {
     "data": {
      "text/plain": [
       "[<matplotlib.lines.Line2D at 0x2957efc9610>]"
      ]
     },
     "execution_count": 8,
     "metadata": {},
     "output_type": "execute_result"
    },
    {
     "data": {
      "image/png": "[encoded data removed]",
      "text/plain": [
       "<Figure size 640x480 with 1 Axes>"
      ]
     },
     "metadata": {},
     "output_type": "display_data"
    }
   ],
   "source": [
    "plt.plot(-x[0][0:1000])     # x[0] seems to be vertical acceleration.\n",
    "# plt.xlim([0, 1000])"
   ]
  },
  {
   "cell_type": "code",
   "execution_count": null,
   "id": "352c273e",
   "metadata": {},
   "outputs": [],
   "source": [
    "plt.plot(x[2][0:1000])     # x[2] seems to be forward-backward acceleration\n",
    "# plt.xlim([0, 1000])"
   ]
  },
  {
   "cell_type": "code",
   "execution_count": 30,
   "id": "30c819cc",
   "metadata": {},
   "outputs": [
    {
     "data": {
      "text/plain": [
       "array([ -883.,  -883.,  -882., ...,  -989., -1015., -1054.], dtype=float32)"
      ]
     },
     "execution_count": 30,
     "metadata": {},
     "output_type": "execute_result"
    }
   ],
   "source": [
    "x[0]"
   ]
  },
  {
   "cell_type": "code",
   "execution_count": 9,
   "id": "c0a41e96-f5fd-4d50-814f-8930aa14e368",
   "metadata": {},
   "outputs": [
    {
     "data": {
      "text/plain": [
       "241.56"
      ]
     },
     "execution_count": 9,
     "metadata": {},
     "output_type": "execute_result"
    }
   ],
   "source": [
    "# Check duration\n",
    "sampling_rate = 200 # Hz\n",
    "duration = len(accel_data)/sampling_rate\n",
    "duration # in seconds"
   ]
  },
  {
   "cell_type": "markdown",
   "id": "3127fcf4-6351-44e3-aeb3-ccc6960c917c",
   "metadata": {},
   "source": [
    "## Extract stride intervals from acceleration data"
   ]
  },
  {
   "cell_type": "code",
   "execution_count": 10,
   "id": "c0a01723-b37a-4bf3-afd2-1ff1a0d7a97d",
   "metadata": {},
   "outputs": [],
   "source": [
    "## Use find_peaks function in Python\n",
    "# peaks, _ = signal.find_peaks(-x[0], height=1250, distance=75)  # Vertical acceleration - Adjust the height parameter as needed\n",
    "peaks, _ = signal.find_peaks(-x[2], height=200, distance=75)  # Forward-aft acceleration - Adjust the height parameter as needed\n",
    "\n",
    "\n",
    "\n",
    "# Calculate intervals between peaks (in samples)\n",
    "intervals = np.diff(peaks)"
   ]
  },
  {
   "cell_type": "code",
   "execution_count": 33,
   "id": "d8f8298d",
   "metadata": {},
   "outputs": [
    {
     "data": {
      "text/plain": [
       "418"
      ]
     },
     "execution_count": 33,
     "metadata": {},
     "output_type": "execute_result"
    }
   ],
   "source": [
    "len(intervals)"
   ]
  },
  {
   "cell_type": "code",
   "execution_count": 12,
   "id": "b4c15b64",
   "metadata": {},
   "outputs": [
    {
     "data": {
      "image/png": "[encoded data removed]",
      "text/plain": [
       "<Figure size 1000x600 with 1 Axes>"
      ]
     },
     "metadata": {},
     "output_type": "display_data"
    }
   ],
   "source": [
    "# Acceleration in the vertical direction\n",
    "plt.figure(figsize=(10, 6))\n",
    "plt.plot(-x[0], label='Accel Signal')\n",
    "plt.plot(peaks, -x[0][peaks], \"x\", label='Detected Peaks')\n",
    "plt.legend()\n",
    "plt.title('Accel Signal and Detected Peaks')\n",
    "plt.xlabel('Sample')\n",
    "plt.ylabel('Amplitude')\n",
    "plt.show()"
   ]
  },
  {
   "cell_type": "code",
   "execution_count": null,
   "id": "7842e29c",
   "metadata": {},
   "outputs": [],
   "source": [
    "#Acceleration in the forward-aft direction\n",
    "plt.figure(figsize=(10, 6))\n",
    "plt.plot(-x[2], label='Accel Signal')\n",
    "plt.plot(peaks, -x[2][peaks], \"x\", label='Detected Peaks')\n",
    "plt.legend()\n",
    "plt.title('Accel Signal and Detected Peaks')\n",
    "plt.xlabel('Sample')\n",
    "plt.ylabel('Amplitude')\n",
    "plt.show()"
   ]
  },
  {
   "cell_type": "code",
   "execution_count": 16,
   "id": "869a991f",
   "metadata": {},
   "outputs": [
    {
     "data": {
      "text/plain": [
       "200"
      ]
     },
     "execution_count": 16,
     "metadata": {},
     "output_type": "execute_result"
    }
   ],
   "source": [
    "sampling_rate"
   ]
  },
  {
   "cell_type": "code",
   "execution_count": 37,
   "id": "730fc5d7",
   "metadata": {},
   "outputs": [
    {
     "data": {
      "text/plain": [
       "range(0, 416, 2)"
      ]
     },
     "execution_count": 37,
     "metadata": {},
     "output_type": "execute_result"
    }
   ],
   "source": [
    "range(0, len(intervals) - 2, 2)"
   ]
  },
  {
   "cell_type": "code",
   "execution_count": 51,
   "id": "777b75d2",
   "metadata": {},
   "outputs": [
    {
     "name": "stdout",
     "output_type": "stream",
     "text": [
      "0\n",
      "2\n",
      "4\n",
      "6\n",
      "8\n",
      "10\n",
      "12\n",
      "14\n",
      "16\n",
      "18\n",
      "20\n",
      "22\n",
      "24\n",
      "26\n",
      "28\n",
      "30\n",
      "32\n",
      "34\n",
      "36\n",
      "38\n",
      "40\n",
      "42\n",
      "44\n",
      "46\n",
      "48\n",
      "50\n",
      "52\n",
      "54\n",
      "56\n",
      "58\n",
      "60\n",
      "62\n",
      "64\n",
      "66\n",
      "68\n",
      "70\n",
      "72\n",
      "74\n",
      "76\n",
      "78\n",
      "80\n",
      "82\n",
      "84\n",
      "86\n",
      "88\n",
      "90\n",
      "92\n",
      "94\n",
      "96\n",
      "98\n",
      "100\n",
      "102\n",
      "104\n",
      "106\n",
      "108\n",
      "110\n",
      "112\n",
      "114\n",
      "116\n",
      "118\n",
      "120\n",
      "122\n",
      "124\n",
      "126\n",
      "128\n",
      "130\n",
      "132\n",
      "134\n",
      "136\n",
      "138\n",
      "140\n",
      "142\n",
      "144\n",
      "146\n",
      "148\n",
      "150\n",
      "152\n",
      "154\n",
      "156\n",
      "158\n",
      "160\n",
      "162\n",
      "164\n",
      "166\n",
      "168\n",
      "170\n",
      "172\n",
      "174\n",
      "176\n",
      "178\n",
      "180\n",
      "182\n",
      "184\n",
      "186\n",
      "188\n",
      "190\n",
      "192\n",
      "194\n",
      "196\n",
      "198\n",
      "200\n",
      "202\n",
      "204\n",
      "206\n",
      "208\n",
      "210\n",
      "212\n",
      "214\n",
      "216\n",
      "218\n",
      "220\n",
      "222\n",
      "224\n",
      "226\n",
      "228\n",
      "230\n",
      "232\n",
      "234\n",
      "236\n",
      "238\n",
      "240\n",
      "242\n",
      "244\n",
      "246\n",
      "248\n",
      "250\n",
      "252\n",
      "254\n",
      "256\n",
      "258\n",
      "260\n",
      "262\n",
      "264\n",
      "266\n",
      "268\n",
      "270\n",
      "272\n",
      "274\n",
      "276\n",
      "278\n",
      "280\n",
      "282\n",
      "284\n",
      "286\n",
      "288\n",
      "290\n",
      "292\n",
      "294\n",
      "296\n",
      "298\n",
      "300\n",
      "302\n",
      "304\n",
      "306\n",
      "308\n",
      "310\n",
      "312\n",
      "314\n",
      "316\n",
      "318\n",
      "320\n",
      "322\n",
      "324\n",
      "326\n",
      "328\n",
      "330\n",
      "332\n",
      "334\n",
      "336\n",
      "338\n",
      "340\n",
      "342\n",
      "344\n",
      "346\n",
      "348\n",
      "350\n",
      "352\n",
      "354\n",
      "356\n",
      "358\n",
      "360\n",
      "362\n",
      "364\n",
      "366\n",
      "368\n",
      "370\n",
      "372\n",
      "374\n",
      "376\n",
      "378\n",
      "380\n",
      "382\n",
      "384\n",
      "386\n",
      "388\n",
      "390\n",
      "392\n",
      "394\n",
      "396\n",
      "398\n",
      "400\n",
      "402\n",
      "404\n",
      "406\n",
      "408\n",
      "410\n",
      "412\n",
      "414\n"
     ]
    }
   ],
   "source": [
    "stride_times_left = []\n",
    "stride_times_right =  []\n",
    "step_time_left = []\n",
    "step_time_right = []\n",
    "\n",
    "for i in range(0, len(intervals) - 2, 2):\n",
    "    print(i)\n",
    "    stride_times_left.append(intervals[i] + intervals[i+1])\n",
    "    stride_times_right.append(intervals[i+1] + intervals[i+2])\n",
    "    step_time_left.append(intervals[i]/sampling_rate)\n",
    "    step_time_right.append(intervals[i+1]/sampling_rate)\n",
    "stride_times_left = np.array(stride_times_left)\n",
    "stride_times_right = np.array(stride_times_right)\n",
    "step_time_left = np.array(step_time_left)\n",
    "step_time_right = np.array(step_time_right)"
   ]
  },
  {
   "cell_type": "code",
   "execution_count": 52,
   "id": "912897c5",
   "metadata": {},
   "outputs": [
    {
     "data": {
      "text/plain": [
       "array([0.57 , 0.565, 0.57 , 0.585, 0.61 , 0.565, 0.56 , 0.58 , 0.59 ,\n",
       "       0.6  , 0.59 , 0.59 , 0.605, 0.61 , 0.605, 0.585, 0.57 , 0.58 ,\n",
       "       0.555, 0.56 , 0.58 , 0.565, 0.58 , 0.575, 0.565, 0.565, 0.585,\n",
       "       0.565, 0.595, 0.57 , 0.575, 0.58 , 0.58 , 0.585, 0.585, 0.575,\n",
       "       0.58 , 0.585, 0.595, 0.565, 0.57 , 0.595, 0.595, 0.59 , 0.58 ,\n",
       "       0.57 , 0.595, 0.565, 0.565, 0.575, 0.585, 0.575, 0.585, 0.59 ,\n",
       "       0.575, 0.57 , 0.565, 0.575, 0.575, 0.57 , 0.565, 0.57 , 0.565,\n",
       "       0.55 , 0.595, 0.57 , 0.565, 0.565, 0.555, 0.58 , 0.555, 1.13 ,\n",
       "       0.55 , 0.575, 0.575, 0.575, 0.58 , 0.58 , 0.58 , 0.59 , 0.575,\n",
       "       0.58 , 0.58 , 0.59 , 0.585, 0.575, 0.585, 0.575, 0.575, 0.58 ,\n",
       "       0.605, 0.585, 0.6  , 0.575, 0.575, 0.575, 0.585, 0.565, 0.58 ,\n",
       "       0.57 , 0.57 , 0.61 , 0.565, 0.58 , 0.575, 0.57 , 0.575, 0.565,\n",
       "       0.57 , 0.58 , 0.57 , 0.57 , 0.585, 0.59 , 0.565, 0.555, 0.575,\n",
       "       0.575, 0.565, 0.58 , 0.57 , 0.57 , 0.57 , 0.565, 0.565, 0.565,\n",
       "       0.565, 0.555, 0.59 , 0.56 , 0.575, 0.56 , 0.57 , 0.585, 0.575,\n",
       "       0.575, 0.57 , 0.57 , 0.56 , 0.575, 0.575, 0.595, 0.565, 0.555,\n",
       "       0.56 , 0.565, 0.565, 0.565, 0.58 , 0.58 , 0.575, 0.565, 0.575,\n",
       "       0.575, 0.57 , 0.57 , 0.565, 0.565, 0.555, 0.58 , 0.58 , 0.575,\n",
       "       0.57 , 0.58 , 0.565, 0.565, 0.585, 0.565, 0.57 , 0.57 , 0.57 ,\n",
       "       0.54 , 0.565, 0.575, 0.585, 0.57 , 0.56 , 0.555, 0.57 , 0.56 ,\n",
       "       0.565, 0.575, 1.165, 0.575, 0.585, 0.58 , 0.58 , 0.575, 0.57 ,\n",
       "       0.575, 0.58 , 0.575, 0.585, 0.565, 0.58 , 0.58 , 0.585, 0.58 ,\n",
       "       0.57 , 0.585, 0.585, 0.58 , 0.565, 0.575, 0.57 , 0.565, 0.56 ,\n",
       "       0.55 ])"
      ]
     },
     "execution_count": 52,
     "metadata": {},
     "output_type": "execute_result"
    }
   ],
   "source": [
    "step_time_left"
   ]
  },
  {
   "cell_type": "code",
   "execution_count": 53,
   "id": "78527790",
   "metadata": {},
   "outputs": [
    {
     "data": {
      "text/plain": [
       "array([0.57 , 0.545, 0.565, 0.545, 0.57 , 0.545, 0.585, 0.58 , 0.61 ,\n",
       "       0.565, 0.565, 0.56 , 0.56 , 0.565, 0.58 , 0.58 , 0.59 , 0.585,\n",
       "       0.6  , 0.58 , 0.59 , 0.56 , 0.59 , 0.58 , 0.605, 0.585, 0.61 ,\n",
       "       0.58 , 0.605, 0.59 , 0.585, 0.59 , 0.57 , 0.59 , 0.58 , 0.59 ,\n",
       "       0.555, 0.57 , 0.56 , 0.56 , 0.58 , 0.575, 0.565, 0.565, 0.58 ,\n",
       "       0.545, 0.575, 0.56 , 0.565, 0.57 , 0.565, 0.575, 0.585, 0.575,\n",
       "       0.565, 0.575, 0.595, 0.58 , 0.57 , 0.58 , 0.575, 0.555, 0.58 ,\n",
       "       0.56 , 0.58 , 0.59 , 0.585, 0.565, 0.585, 0.585, 0.575, 0.58 ,\n",
       "       0.58 , 0.56 , 0.585, 0.55 , 0.595, 0.565, 0.565, 0.555, 0.57 ,\n",
       "       0.58 , 0.595, 0.56 , 0.595, 0.555, 0.59 , 0.59 , 0.58 , 0.585,\n",
       "       0.57 , 0.555, 0.595, 0.555, 0.565, 0.57 , 0.565, 0.56 , 0.575,\n",
       "       0.58 , 0.585, 0.59 , 0.575, 0.57 , 0.585, 0.575, 0.59 , 0.575,\n",
       "       0.575, 0.575, 0.57 , 0.59 , 0.565, 0.58 , 0.575, 0.59 , 0.575,\n",
       "       0.56 , 0.57 , 0.565, 0.565, 0.56 , 0.57 , 0.57 , 0.565, 0.58 ,\n",
       "       0.55 , 0.575, 0.595, 0.575, 0.57 , 0.585, 0.565, 0.57 , 0.565,\n",
       "       0.59 , 0.555, 0.57 , 0.58 , 0.585, 0.555, 0.59 , 1.13 , 0.58 ,\n",
       "       0.55 , 0.58 , 0.575, 0.57 , 0.575, 0.575, 0.575, 0.575, 0.58 ,\n",
       "       0.575, 0.58 , 0.58 , 0.58 , 0.56 , 0.59 , 0.57 , 0.575, 0.555,\n",
       "       0.58 , 0.595, 0.58 , 0.57 , 0.59 , 0.565, 0.585, 0.57 , 0.575,\n",
       "       0.59 , 0.585, 0.58 , 0.575, 0.565, 0.575, 0.57 , 0.58 , 0.565,\n",
       "       0.605, 0.555, 0.585, 0.565, 0.6  , 0.56 , 0.575, 0.545, 0.575,\n",
       "       0.555, 0.575, 0.56 , 0.585, 0.565, 0.565, 0.55 , 0.58 , 0.585,\n",
       "       0.57 , 0.585, 0.57 , 0.595, 0.61 , 0.57 , 0.565, 0.555, 0.58 ,\n",
       "       0.575, 0.575, 0.58 , 0.57 , 0.565, 0.575, 0.57 , 0.565, 0.585,\n",
       "       0.57 , 0.59 , 0.58 , 0.57 , 0.57 , 0.585, 0.57 , 0.58 , 0.585,\n",
       "       0.575, 0.59 , 0.58 , 0.565, 0.57 , 0.555, 0.57 , 0.575, 0.57 ,\n",
       "       0.575, 0.59 , 0.565, 0.585, 0.58 , 0.575, 0.57 , 0.59 , 0.57 ,\n",
       "       0.58 , 0.57 , 0.58 , 0.565, 0.595, 0.565, 0.59 , 0.565, 0.58 ,\n",
       "       0.565, 0.575, 0.555, 0.59 , 0.59 , 0.575, 0.56 , 0.565, 0.575,\n",
       "       0.585, 0.56 , 0.59 , 0.57 , 0.595, 0.585, 0.58 , 0.575, 0.575,\n",
       "       0.575, 0.58 , 0.57 , 0.555, 0.57 , 0.565, 0.56 , 0.59 , 0.575,\n",
       "       0.59 , 0.575, 0.58 , 0.595, 0.555, 0.565, 0.57 , 0.555, 0.555,\n",
       "       0.56 , 0.57 , 0.565, 0.585, 0.565, 0.585, 0.565, 0.585, 0.58 ,\n",
       "       0.59 , 0.58 , 0.585, 0.575, 0.565, 0.565, 0.56 , 0.575, 0.595,\n",
       "       0.575, 0.57 , 0.57 , 0.585, 0.57 , 0.56 , 0.565, 0.575, 0.565,\n",
       "       0.575, 0.555, 0.565, 0.58 , 0.595, 0.58 , 0.585, 0.575, 0.585,\n",
       "       0.57 , 0.565, 0.58 , 0.58 , 0.565, 0.56 , 0.565, 0.585, 0.585,\n",
       "       0.57 , 0.565, 0.585, 0.57 , 0.575, 0.57 , 0.59 , 0.57 , 0.57 ,\n",
       "       0.54 , 0.595, 0.565, 0.57 , 0.575, 0.575, 0.585, 0.59 , 0.57 ,\n",
       "       0.585, 0.56 , 0.59 , 0.555, 0.61 , 0.57 , 0.56 , 0.56 , 0.58 ,\n",
       "       0.565, 0.58 , 0.575, 0.585, 1.165, 0.54 , 0.575, 0.565, 0.585,\n",
       "       0.575, 0.58 , 0.575, 0.58 , 0.58 , 0.575, 0.575, 0.57 , 0.575,\n",
       "       0.575, 0.57 , 0.58 , 0.565, 0.575, 0.55 , 0.585, 0.545, 0.565,\n",
       "       0.58 , 0.58 , 0.58 , 0.58 , 0.585, 0.585, 0.585, 0.58 , 0.575,\n",
       "       0.57 , 0.59 , 0.585, 0.565, 0.585, 0.57 , 0.58 , 0.575, 0.565,\n",
       "       0.56 , 0.575, 0.59 , 0.57 , 0.57 , 0.565, 0.585, 0.56 , 0.58 ,\n",
       "       0.55 , 0.56 , 0.575, 0.6  ])"
      ]
     },
     "execution_count": 53,
     "metadata": {},
     "output_type": "execute_result"
    }
   ],
   "source": [
    "intervals/200"
   ]
  },
  {
   "cell_type": "code",
   "execution_count": 58,
   "id": "33011c14",
   "metadata": {},
   "outputs": [],
   "source": [
    "symmetry_index = abs((2 * (step_time_left - step_time_right) / (step_time_left + step_time_right)) * 100)"
   ]
  },
  {
   "cell_type": "code",
   "execution_count": 67,
   "id": "a41f9c03",
   "metadata": {},
   "outputs": [],
   "source": [
    "avg_symmetry_index = np.abs((2 * (step_time_left.mean() - step_time_right.mean()) / (step_time_left.mean() + step_time_right.mean())) * 100)"
   ]
  },
  {
   "cell_type": "code",
   "execution_count": 68,
   "id": "6f675ea7",
   "metadata": {},
   "outputs": [
    {
     "data": {
      "text/plain": [
       "1.037003102679959"
      ]
     },
     "execution_count": 68,
     "metadata": {},
     "output_type": "execute_result"
    }
   ],
   "source": [
    "avg_symmetry_index"
   ]
  },
  {
   "cell_type": "code",
   "execution_count": 65,
   "id": "f5cb7b49",
   "metadata": {},
   "outputs": [
    {
     "data": {
      "text/plain": [
       "0.7233793444424459"
      ]
     },
     "execution_count": 65,
     "metadata": {},
     "output_type": "execute_result"
    }
   ],
   "source": [
    "symmetry_index.mean()"
   ]
  },
  {
   "cell_type": "code",
   "execution_count": null,
   "id": "3491e0f4",
   "metadata": {},
   "outputs": [],
   "source": [
    "# Save data to an Excel file\n",
    "\n",
    "# Create a DataFrame\n",
    "df = pd.DataFrame({\n",
    "    \"step_time_left\": step_time_left,\n",
    "    \"step_time_right\": step_time_right\n",
    "})\n",
    "\n",
    "# Save to Excel file\n",
    "excel_filename = \"Polar_accel_step_times.xlsx\"\n",
    "df.to_excel(excel_filename, index=False)\n",
    "\n",
    "excel_filename"
   ]
  }
 ],
 "metadata": {
  "kernelspec": {
   "display_name": "Python 3 (ipykernel)",
   "language": "python",
   "name": "python3"
  },
  "language_info": {
   "codemirror_mode": {
    "name": "ipython",
    "version": 3
   },
   "file_extension": ".py",
   "mimetype": "text/x-python",
   "name": "python",
   "nbconvert_exporter": "python",
   "pygments_lexer": "ipython3",
   "version": "3.12.1"
  }
 },
 "nbformat": 4,
 "nbformat_minor": 5
}
